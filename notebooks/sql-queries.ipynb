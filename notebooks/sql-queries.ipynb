{
 "cells": [
  {
   "cell_type": "code",
   "execution_count": null,
   "metadata": {},
   "outputs": [],
   "source": [
    "## ONLY NEEDED WHEN USING sqlite3 and prettytable\n",
    "\n",
    "# !pip install sqlalchemy==1.3.9\n",
    "# !pip install ipython-sql\n",
    "# !pip install ipython-sql prettytable"
   ]
  },
  {
   "cell_type": "code",
   "execution_count": 24,
   "metadata": {},
   "outputs": [],
   "source": [
    "# set python path to parent directory\n",
    "import os\n",
    "os.chdir(\"..\")  # go up to the project root from /notebooks/\n",
    "\n",
    "# import sqlite3\n",
    "# import prettytable\n",
    "# prettytable.DEFAULT = 'DEFAULT'\n",
    "\n",
    "# # Establishing the connection to the database\n",
    "# ## The database name is data/Spacex.db\n",
    "\n",
    "# con = sqlite3.connect(\"data/SpaceX.db\")\n",
    "# cur = con.cursor()"
   ]
  },
  {
   "cell_type": "code",
   "execution_count": 25,
   "metadata": {},
   "outputs": [
    {
     "name": "stdout",
     "output_type": "stream",
     "text": [
      "The sql extension is already loaded. To reload it, use:\n",
      "  %reload_ext sql\n"
     ]
    }
   ],
   "source": [
    "%load_ext sql\n",
    "%sql sqlite:///data/SpaceX.db"
   ]
  },
  {
   "cell_type": "code",
   "execution_count": 26,
   "metadata": {},
   "outputs": [
    {
     "name": "stdout",
     "output_type": "stream",
     "text": [
      " * sqlite:///data/SpaceX.db\n",
      "Done.\n"
     ]
    },
    {
     "data": {
      "text/html": [
       "<table>\n",
       "    <thead>\n",
       "        <tr>\n",
       "            <th>name</th>\n",
       "        </tr>\n",
       "    </thead>\n",
       "    <tbody>\n",
       "        <tr>\n",
       "            <td>SPACEXTBL</td>\n",
       "        </tr>\n",
       "    </tbody>\n",
       "</table>"
      ],
      "text/plain": [
       "[('SPACEXTBL',)]"
      ]
     },
     "execution_count": 26,
     "metadata": {},
     "output_type": "execute_result"
    }
   ],
   "source": [
    "%sql SELECT name FROM sqlite_master WHERE type='table';\n"
   ]
  },
  {
   "cell_type": "code",
   "execution_count": 27,
   "metadata": {},
   "outputs": [
    {
     "name": "stdout",
     "output_type": "stream",
     "text": [
      " * sqlite:///data/SpaceX.db\n",
      "Done.\n"
     ]
    },
    {
     "data": {
      "text/html": [
       "<table>\n",
       "    <thead>\n",
       "        <tr>\n",
       "            <th>cid</th>\n",
       "            <th>name</th>\n",
       "            <th>type</th>\n",
       "            <th>notnull</th>\n",
       "            <th>dflt_value</th>\n",
       "            <th>pk</th>\n",
       "        </tr>\n",
       "    </thead>\n",
       "    <tbody>\n",
       "        <tr>\n",
       "            <td>0</td>\n",
       "            <td>flight_number</td>\n",
       "            <td>INTEGER</td>\n",
       "            <td>0</td>\n",
       "            <td>None</td>\n",
       "            <td>0</td>\n",
       "        </tr>\n",
       "        <tr>\n",
       "            <td>1</td>\n",
       "            <td>booster</td>\n",
       "            <td>TEXT</td>\n",
       "            <td>0</td>\n",
       "            <td>None</td>\n",
       "            <td>0</td>\n",
       "        </tr>\n",
       "        <tr>\n",
       "            <td>2</td>\n",
       "            <td>payload_mass</td>\n",
       "            <td>REAL</td>\n",
       "            <td>0</td>\n",
       "            <td>None</td>\n",
       "            <td>0</td>\n",
       "        </tr>\n",
       "        <tr>\n",
       "            <td>3</td>\n",
       "            <td>outcome</td>\n",
       "            <td>TEXT</td>\n",
       "            <td>0</td>\n",
       "            <td>None</td>\n",
       "            <td>0</td>\n",
       "        </tr>\n",
       "        <tr>\n",
       "            <td>4</td>\n",
       "            <td>date</td>\n",
       "            <td>TEXT</td>\n",
       "            <td>0</td>\n",
       "            <td>None</td>\n",
       "            <td>0</td>\n",
       "        </tr>\n",
       "        <tr>\n",
       "            <td>5</td>\n",
       "            <td>longitude</td>\n",
       "            <td>REAL</td>\n",
       "            <td>0</td>\n",
       "            <td>None</td>\n",
       "            <td>0</td>\n",
       "        </tr>\n",
       "        <tr>\n",
       "            <td>6</td>\n",
       "            <td>latitude</td>\n",
       "            <td>REAL</td>\n",
       "            <td>0</td>\n",
       "            <td>None</td>\n",
       "            <td>0</td>\n",
       "        </tr>\n",
       "        <tr>\n",
       "            <td>7</td>\n",
       "            <td>reused</td>\n",
       "            <td>INTEGER</td>\n",
       "            <td>0</td>\n",
       "            <td>None</td>\n",
       "            <td>0</td>\n",
       "        </tr>\n",
       "        <tr>\n",
       "            <td>8</td>\n",
       "            <td>reused_count</td>\n",
       "            <td>INTEGER</td>\n",
       "            <td>0</td>\n",
       "            <td>None</td>\n",
       "            <td>0</td>\n",
       "        </tr>\n",
       "        <tr>\n",
       "            <td>9</td>\n",
       "            <td>serial</td>\n",
       "            <td>TEXT</td>\n",
       "            <td>0</td>\n",
       "            <td>None</td>\n",
       "            <td>0</td>\n",
       "        </tr>\n",
       "        <tr>\n",
       "            <td>10</td>\n",
       "            <td>landing_pad</td>\n",
       "            <td>TEXT</td>\n",
       "            <td>0</td>\n",
       "            <td>None</td>\n",
       "            <td>0</td>\n",
       "        </tr>\n",
       "        <tr>\n",
       "            <td>11</td>\n",
       "            <td>gridfins</td>\n",
       "            <td>INTEGER</td>\n",
       "            <td>0</td>\n",
       "            <td>None</td>\n",
       "            <td>0</td>\n",
       "        </tr>\n",
       "        <tr>\n",
       "            <td>12</td>\n",
       "            <td>legs</td>\n",
       "            <td>INTEGER</td>\n",
       "            <td>0</td>\n",
       "            <td>None</td>\n",
       "            <td>0</td>\n",
       "        </tr>\n",
       "        <tr>\n",
       "            <td>13</td>\n",
       "            <td>booster_version</td>\n",
       "            <td>TEXT</td>\n",
       "            <td>0</td>\n",
       "            <td>None</td>\n",
       "            <td>0</td>\n",
       "        </tr>\n",
       "        <tr>\n",
       "            <td>14</td>\n",
       "            <td>orbit</td>\n",
       "            <td>TEXT</td>\n",
       "            <td>0</td>\n",
       "            <td>None</td>\n",
       "            <td>0</td>\n",
       "        </tr>\n",
       "        <tr>\n",
       "            <td>15</td>\n",
       "            <td>launch_site</td>\n",
       "            <td>TEXT</td>\n",
       "            <td>0</td>\n",
       "            <td>None</td>\n",
       "            <td>0</td>\n",
       "        </tr>\n",
       "        <tr>\n",
       "            <td>16</td>\n",
       "            <td>class</td>\n",
       "            <td>INTEGER</td>\n",
       "            <td>0</td>\n",
       "            <td>None</td>\n",
       "            <td>0</td>\n",
       "        </tr>\n",
       "    </tbody>\n",
       "</table>"
      ],
      "text/plain": [
       "[(0, 'flight_number', 'INTEGER', 0, None, 0),\n",
       " (1, 'booster', 'TEXT', 0, None, 0),\n",
       " (2, 'payload_mass', 'REAL', 0, None, 0),\n",
       " (3, 'outcome', 'TEXT', 0, None, 0),\n",
       " (4, 'date', 'TEXT', 0, None, 0),\n",
       " (5, 'longitude', 'REAL', 0, None, 0),\n",
       " (6, 'latitude', 'REAL', 0, None, 0),\n",
       " (7, 'reused', 'INTEGER', 0, None, 0),\n",
       " (8, 'reused_count', 'INTEGER', 0, None, 0),\n",
       " (9, 'serial', 'TEXT', 0, None, 0),\n",
       " (10, 'landing_pad', 'TEXT', 0, None, 0),\n",
       " (11, 'gridfins', 'INTEGER', 0, None, 0),\n",
       " (12, 'legs', 'INTEGER', 0, None, 0),\n",
       " (13, 'booster_version', 'TEXT', 0, None, 0),\n",
       " (14, 'orbit', 'TEXT', 0, None, 0),\n",
       " (15, 'launch_site', 'TEXT', 0, None, 0),\n",
       " (16, 'class', 'INTEGER', 0, None, 0)]"
      ]
     },
     "execution_count": 27,
     "metadata": {},
     "output_type": "execute_result"
    }
   ],
   "source": [
    "# display table info with PRAGMA\n",
    "%sql PRAGMA table_info(SPACEXTBL)"
   ]
  },
  {
   "cell_type": "code",
   "execution_count": 28,
   "metadata": {},
   "outputs": [
    {
     "name": "stdout",
     "output_type": "stream",
     "text": [
      " * sqlite:///data/SpaceX.db\n",
      "Done.\n"
     ]
    },
    {
     "data": {
      "text/html": [
       "<table>\n",
       "    <thead>\n",
       "        <tr>\n",
       "            <th>launch_site</th>\n",
       "        </tr>\n",
       "    </thead>\n",
       "    <tbody>\n",
       "        <tr>\n",
       "            <td>CCAFS</td>\n",
       "        </tr>\n",
       "        <tr>\n",
       "            <td>VAFB</td>\n",
       "        </tr>\n",
       "        <tr>\n",
       "            <td>Cape Canaveral</td>\n",
       "        </tr>\n",
       "        <tr>\n",
       "            <td>KSC</td>\n",
       "        </tr>\n",
       "        <tr>\n",
       "            <td>CCSFS</td>\n",
       "        </tr>\n",
       "    </tbody>\n",
       "</table>"
      ],
      "text/plain": [
       "[('CCAFS',), ('VAFB',), ('Cape Canaveral',), ('KSC',), ('CCSFS',)]"
      ]
     },
     "execution_count": 28,
     "metadata": {},
     "output_type": "execute_result"
    }
   ],
   "source": [
    "# display the names of the unique launch sites\n",
    "%sql select distinct launch_site from SPACEXTBL"
   ]
  },
  {
   "cell_type": "code",
   "execution_count": 29,
   "metadata": {},
   "outputs": [
    {
     "name": "stdout",
     "output_type": "stream",
     "text": [
      " * sqlite:///data/SpaceX.db\n",
      "Done.\n"
     ]
    },
    {
     "data": {
      "text/html": [
       "<table>\n",
       "    <thead>\n",
       "        <tr>\n",
       "            <th>flight_number</th>\n",
       "            <th>booster</th>\n",
       "            <th>payload_mass</th>\n",
       "            <th>outcome</th>\n",
       "            <th>date</th>\n",
       "            <th>longitude</th>\n",
       "            <th>latitude</th>\n",
       "            <th>reused</th>\n",
       "            <th>reused_count</th>\n",
       "            <th>serial</th>\n",
       "            <th>landing_pad</th>\n",
       "            <th>gridfins</th>\n",
       "            <th>legs</th>\n",
       "            <th>booster_version</th>\n",
       "            <th>orbit</th>\n",
       "            <th>launch_site</th>\n",
       "            <th>class</th>\n",
       "        </tr>\n",
       "    </thead>\n",
       "    <tbody>\n",
       "        <tr>\n",
       "            <td>1</td>\n",
       "            <td>Falcon 1</td>\n",
       "            <td>20.0</td>\n",
       "            <td>None None</td>\n",
       "            <td>2006-03-24</td>\n",
       "            <td>167.7431292</td>\n",
       "            <td>9.0477206</td>\n",
       "            <td>0</td>\n",
       "            <td>0</td>\n",
       "            <td>Merlin1A</td>\n",
       "            <td>None</td>\n",
       "            <td>0</td>\n",
       "            <td>0</td>\n",
       "            <td>F9 v1.07B0003.18</td>\n",
       "            <td>LEO</td>\n",
       "            <td>CCAFS</td>\n",
       "            <td>0</td>\n",
       "        </tr>\n",
       "        <tr>\n",
       "            <td>2</td>\n",
       "            <td>Falcon 1</td>\n",
       "            <td>5919.16534090909</td>\n",
       "            <td>None None</td>\n",
       "            <td>2007-03-21</td>\n",
       "            <td>167.7431292</td>\n",
       "            <td>9.0477206</td>\n",
       "            <td>0</td>\n",
       "            <td>0</td>\n",
       "            <td>Merlin2A</td>\n",
       "            <td>None</td>\n",
       "            <td>0</td>\n",
       "            <td>0</td>\n",
       "            <td>F9 v1.07B0004.18</td>\n",
       "            <td>LEO</td>\n",
       "            <td>CCAFS</td>\n",
       "            <td>0</td>\n",
       "        </tr>\n",
       "        <tr>\n",
       "            <td>4</td>\n",
       "            <td>Falcon 1</td>\n",
       "            <td>165.0</td>\n",
       "            <td>None None</td>\n",
       "            <td>2008-09-28</td>\n",
       "            <td>167.7431292</td>\n",
       "            <td>9.0477206</td>\n",
       "            <td>0</td>\n",
       "            <td>0</td>\n",
       "            <td>Merlin2C</td>\n",
       "            <td>None</td>\n",
       "            <td>0</td>\n",
       "            <td>0</td>\n",
       "            <td>F9 v1.07B0006.18</td>\n",
       "            <td>LEO</td>\n",
       "            <td>CCAFS</td>\n",
       "            <td>0</td>\n",
       "        </tr>\n",
       "        <tr>\n",
       "            <td>5</td>\n",
       "            <td>Falcon 1</td>\n",
       "            <td>200.0</td>\n",
       "            <td>None None</td>\n",
       "            <td>2009-07-13</td>\n",
       "            <td>167.7431292</td>\n",
       "            <td>9.0477206</td>\n",
       "            <td>0</td>\n",
       "            <td>0</td>\n",
       "            <td>Merlin3C</td>\n",
       "            <td>None</td>\n",
       "            <td>0</td>\n",
       "            <td>0</td>\n",
       "            <td>F9 v1.07B0007.18</td>\n",
       "            <td>LEO</td>\n",
       "            <td>CCAFS</td>\n",
       "            <td>0</td>\n",
       "        </tr>\n",
       "        <tr>\n",
       "            <td>8</td>\n",
       "            <td>Falcon 9</td>\n",
       "            <td>525.0</td>\n",
       "            <td>None None</td>\n",
       "            <td>2012-05-22</td>\n",
       "            <td>-80.577366</td>\n",
       "            <td>28.5618571</td>\n",
       "            <td>0</td>\n",
       "            <td>0</td>\n",
       "            <td>B0005</td>\n",
       "            <td>None</td>\n",
       "            <td>0</td>\n",
       "            <td>0</td>\n",
       "            <td>F9 v1.1</td>\n",
       "            <td>GTO</td>\n",
       "            <td>CCAFS</td>\n",
       "            <td>0</td>\n",
       "        </tr>\n",
       "        <tr>\n",
       "            <td>47</td>\n",
       "            <td>Falcon 9</td>\n",
       "            <td>4990.0</td>\n",
       "            <td>True RTLS</td>\n",
       "            <td>2017-09-07</td>\n",
       "            <td>-80.6039558</td>\n",
       "            <td>28.6080585</td>\n",
       "            <td>0</td>\n",
       "            <td>1</td>\n",
       "            <td>B1040</td>\n",
       "            <td>5e9e3032383ecb267a34e7c7</td>\n",
       "            <td>1</td>\n",
       "            <td>1</td>\n",
       "            <td>F9 B4</td>\n",
       "            <td>LEO</td>\n",
       "            <td>CCAFS</td>\n",
       "            <td>1</td>\n",
       "        </tr>\n",
       "        <tr>\n",
       "            <td>48</td>\n",
       "            <td>Falcon 9</td>\n",
       "            <td>9600.0</td>\n",
       "            <td>True ASDS</td>\n",
       "            <td>2017-10-09</td>\n",
       "            <td>-120.610829</td>\n",
       "            <td>34.632093</td>\n",
       "            <td>0</td>\n",
       "            <td>1</td>\n",
       "            <td>B1041</td>\n",
       "            <td>5e9e3033383ecbb9e534e7cc</td>\n",
       "            <td>1</td>\n",
       "            <td>1</td>\n",
       "            <td>F9 FTB1032.2245</td>\n",
       "            <td>GTO</td>\n",
       "            <td>CCAFS</td>\n",
       "            <td>1</td>\n",
       "        </tr>\n",
       "        <tr>\n",
       "            <td>50</td>\n",
       "            <td>Falcon 9</td>\n",
       "            <td>3700.0</td>\n",
       "            <td>True ASDS</td>\n",
       "            <td>2017-10-30</td>\n",
       "            <td>-80.6039558</td>\n",
       "            <td>28.6080585</td>\n",
       "            <td>0</td>\n",
       "            <td>0</td>\n",
       "            <td>B1042</td>\n",
       "            <td>5e9e3032383ecb6bb234e7ca</td>\n",
       "            <td>1</td>\n",
       "            <td>1</td>\n",
       "            <td>F9 B4</td>\n",
       "            <td>GTO</td>\n",
       "            <td>CCAFS</td>\n",
       "            <td>1</td>\n",
       "        </tr>\n",
       "    </tbody>\n",
       "</table>"
      ],
      "text/plain": [
       "[(1, 'Falcon 1', 20.0, 'None None', '2006-03-24', 167.7431292, 9.0477206, 0, 0, 'Merlin1A', None, 0, 0, 'F9 v1.07B0003.18', 'LEO', 'CCAFS', 0),\n",
       " (2, 'Falcon 1', 5919.16534090909, 'None None', '2007-03-21', 167.7431292, 9.0477206, 0, 0, 'Merlin2A', None, 0, 0, 'F9 v1.07B0004.18', 'LEO', 'CCAFS', 0),\n",
       " (4, 'Falcon 1', 165.0, 'None None', '2008-09-28', 167.7431292, 9.0477206, 0, 0, 'Merlin2C', None, 0, 0, 'F9 v1.07B0006.18', 'LEO', 'CCAFS', 0),\n",
       " (5, 'Falcon 1', 200.0, 'None None', '2009-07-13', 167.7431292, 9.0477206, 0, 0, 'Merlin3C', None, 0, 0, 'F9 v1.07B0007.18', 'LEO', 'CCAFS', 0),\n",
       " (8, 'Falcon 9', 525.0, 'None None', '2012-05-22', -80.577366, 28.5618571, 0, 0, 'B0005', None, 0, 0, 'F9 v1.1', 'GTO', 'CCAFS', 0),\n",
       " (47, 'Falcon 9', 4990.0, 'True RTLS', '2017-09-07', -80.6039558, 28.6080585, 0, 1, 'B1040', '5e9e3032383ecb267a34e7c7', 1, 1, 'F9 B4', 'LEO', 'CCAFS', 1),\n",
       " (48, 'Falcon 9', 9600.0, 'True ASDS', '2017-10-09', -120.610829, 34.632093, 0, 1, 'B1041', '5e9e3033383ecbb9e534e7cc', 1, 1, 'F9 FTB1032.2245', 'GTO', 'CCAFS', 1),\n",
       " (50, 'Falcon 9', 3700.0, 'True ASDS', '2017-10-30', -80.6039558, 28.6080585, 0, 0, 'B1042', '5e9e3032383ecb6bb234e7ca', 1, 1, 'F9 B4', 'GTO', 'CCAFS', 1)]"
      ]
     },
     "execution_count": 29,
     "metadata": {},
     "output_type": "execute_result"
    }
   ],
   "source": [
    "# display 5 records where Launch_Site begins with 'CCA'\n",
    "%sql select * from SPACEXTBL where launch_site like 'CCA%' limit 8"
   ]
  },
  {
   "cell_type": "code",
   "execution_count": 30,
   "metadata": {},
   "outputs": [
    {
     "name": "stdout",
     "output_type": "stream",
     "text": [
      " * sqlite:///data/SpaceX.db\n",
      "(sqlite3.OperationalError) no such column: customer\n",
      "[SQL: select SUM(payload_mass) from SPACEXTBL where customer like 'NASA%']\n",
      "(Background on this error at: https://sqlalche.me/e/20/e3q8)\n"
     ]
    }
   ],
   "source": [
    "# Display the total payload mass carried by boosters launched by NASA (CRS)\n",
    "%sql select SUM(payload_mass) from SPACEXTBL where customer like 'NASA%'"
   ]
  },
  {
   "cell_type": "code",
   "execution_count": 31,
   "metadata": {},
   "outputs": [
    {
     "name": "stdout",
     "output_type": "stream",
     "text": [
      " * sqlite:///data/SpaceX.db\n",
      "Done.\n"
     ]
    },
    {
     "data": {
      "text/html": [
       "<table>\n",
       "    <thead>\n",
       "        <tr>\n",
       "            <th>SUM(payload_mass)</th>\n",
       "        </tr>\n",
       "    </thead>\n",
       "    <tbody>\n",
       "        <tr>\n",
       "            <td>25383.0</td>\n",
       "        </tr>\n",
       "    </tbody>\n",
       "</table>"
      ],
      "text/plain": [
       "[(25383.0,)]"
      ]
     },
     "execution_count": 31,
     "metadata": {},
     "output_type": "execute_result"
    }
   ],
   "source": [
    "# Display average payload mass carried by booster version F9 v1.1\n",
    "%sql select SUM(payload_mass) from SPACEXTBL where booster_version = 'F9 v1.1'"
   ]
  },
  {
   "cell_type": "code",
   "execution_count": 32,
   "metadata": {},
   "outputs": [
    {
     "name": "stdout",
     "output_type": "stream",
     "text": [
      " * sqlite:///data/SpaceX.db\n",
      "Done.\n"
     ]
    },
    {
     "data": {
      "text/html": [
       "<table>\n",
       "    <thead>\n",
       "        <tr>\n",
       "            <th>MIN(date)</th>\n",
       "        </tr>\n",
       "    </thead>\n",
       "    <tbody>\n",
       "        <tr>\n",
       "            <td>None</td>\n",
       "        </tr>\n",
       "    </tbody>\n",
       "</table>"
      ],
      "text/plain": [
       "[(None,)]"
      ]
     },
     "execution_count": 32,
     "metadata": {},
     "output_type": "execute_result"
    }
   ],
   "source": [
    "# List the date when the first succesful landing outcome in ground pad was acheived.\n",
    "%sql select MIN(date) from SPACEXTBL where outcome like 'Success%'"
   ]
  },
  {
   "cell_type": "markdown",
   "metadata": {},
   "source": [
    "Next: List the names of the boosters which have success in drone ship and have payload mass greater than 4000 but less than 6000"
   ]
  },
  {
   "cell_type": "code",
   "execution_count": 40,
   "metadata": {},
   "outputs": [
    {
     "name": "stdout",
     "output_type": "stream",
     "text": [
      " * sqlite:///data/SpaceX.db\n",
      "Done.\n"
     ]
    },
    {
     "data": {
      "text/html": [
       "<table>\n",
       "    <thead>\n",
       "        <tr>\n",
       "            <th>booster_version</th>\n",
       "            <th>payload_mass</th>\n",
       "        </tr>\n",
       "    </thead>\n",
       "    <tbody>\n",
       "    </tbody>\n",
       "</table>"
      ],
      "text/plain": [
       "[]"
      ]
     },
     "execution_count": 40,
     "metadata": {},
     "output_type": "execute_result"
    }
   ],
   "source": [
    "%%sql\n",
    "    SELECT booster_version, payload_mass\n",
    "    FROM SPACEXTBL WHERE outcome = 'Success (drone ship)'\n",
    "    AND payload_mass <= 6000\n",
    "    AND payload_mass >= 4000"
   ]
  },
  {
   "cell_type": "markdown",
   "metadata": {},
   "source": [
    "**Next query:** Lists the total number of susuccessful and failure mission outcomes"
   ]
  },
  {
   "cell_type": "code",
   "execution_count": 39,
   "metadata": {},
   "outputs": [
    {
     "name": "stdout",
     "output_type": "stream",
     "text": [
      " * sqlite:///data/SpaceX.db\n",
      "Done.\n"
     ]
    },
    {
     "data": {
      "text/html": [
       "<table>\n",
       "    <thead>\n",
       "        <tr>\n",
       "            <th>COUNT(*)</th>\n",
       "        </tr>\n",
       "    </thead>\n",
       "    <tbody>\n",
       "        <tr>\n",
       "            <td>0</td>\n",
       "        </tr>\n",
       "    </tbody>\n",
       "</table>"
      ],
      "text/plain": [
       "[(0,)]"
      ]
     },
     "execution_count": 39,
     "metadata": {},
     "output_type": "execute_result"
    }
   ],
   "source": [
    "%%sql\n",
    "    select COUNT(*)\n",
    "    from SPACEXTBL\n",
    "    where outcome like 'Success%'"
   ]
  },
  {
   "cell_type": "code",
   "execution_count": 41,
   "metadata": {},
   "outputs": [
    {
     "name": "stdout",
     "output_type": "stream",
     "text": [
      " * sqlite:///data/SpaceX.db\n",
      "Done.\n"
     ]
    },
    {
     "data": {
      "text/html": [
       "<table>\n",
       "    <thead>\n",
       "        <tr>\n",
       "            <th>COUNT(*)</th>\n",
       "        </tr>\n",
       "    </thead>\n",
       "    <tbody>\n",
       "        <tr>\n",
       "            <td>0</td>\n",
       "        </tr>\n",
       "    </tbody>\n",
       "</table>"
      ],
      "text/plain": [
       "[(0,)]"
      ]
     },
     "execution_count": 41,
     "metadata": {},
     "output_type": "execute_result"
    }
   ],
   "source": [
    "%%sql\n",
    "    select COUNT(*)\n",
    "    from SPACEXTBL\n",
    "    where outcome like 'Failure%'"
   ]
  },
  {
   "cell_type": "markdown",
   "metadata": {},
   "source": [
    "**Next query:** Lists the names of the booster_versions which have carried the maximum payload mass."
   ]
  },
  {
   "cell_type": "code",
   "execution_count": 46,
   "metadata": {},
   "outputs": [
    {
     "name": "stdout",
     "output_type": "stream",
     "text": [
      " * sqlite:///data/SpaceX.db\n",
      "Done.\n"
     ]
    },
    {
     "data": {
      "text/html": [
       "<table>\n",
       "    <thead>\n",
       "        <tr>\n",
       "            <th>booster_version</th>\n",
       "            <th>payload_mass</th>\n",
       "        </tr>\n",
       "    </thead>\n",
       "    <tbody>\n",
       "        <tr>\n",
       "            <td>F9 B5</td>\n",
       "            <td>15600.0</td>\n",
       "        </tr>\n",
       "        <tr>\n",
       "            <td>F9 B5</td>\n",
       "            <td>15600.0</td>\n",
       "        </tr>\n",
       "        <tr>\n",
       "            <td>F9 B5B1058.2544</td>\n",
       "            <td>15600.0</td>\n",
       "        </tr>\n",
       "        <tr>\n",
       "            <td>F9 B5</td>\n",
       "            <td>15600.0</td>\n",
       "        </tr>\n",
       "        <tr>\n",
       "            <td>F9 B5</td>\n",
       "            <td>15600.0</td>\n",
       "        </tr>\n",
       "        <tr>\n",
       "            <td>F9 B5B1060.2563</td>\n",
       "            <td>15600.0</td>\n",
       "        </tr>\n",
       "        <tr>\n",
       "            <td>F9 B5B1051.6568</td>\n",
       "            <td>15600.0</td>\n",
       "        </tr>\n",
       "        <tr>\n",
       "            <td>F9 B5</td>\n",
       "            <td>15600.0</td>\n",
       "        </tr>\n",
       "        <tr>\n",
       "            <td>F9 B5 </td>\n",
       "            <td>15600.0</td>\n",
       "        </tr>\n",
       "        <tr>\n",
       "            <td>F9 B5 </td>\n",
       "            <td>15600.0</td>\n",
       "        </tr>\n",
       "        <tr>\n",
       "            <td>F9 B5 </td>\n",
       "            <td>15600.0</td>\n",
       "        </tr>\n",
       "        <tr>\n",
       "            <td>F9 B5</td>\n",
       "            <td>15600.0</td>\n",
       "        </tr>\n",
       "        <tr>\n",
       "            <td>F9 B5B1051.8609</td>\n",
       "            <td>15600.0</td>\n",
       "        </tr>\n",
       "    </tbody>\n",
       "</table>"
      ],
      "text/plain": [
       "[('F9 B5', 15600.0),\n",
       " ('F9 B5', 15600.0),\n",
       " ('F9 B5B1058.2544', 15600.0),\n",
       " ('F9 B5', 15600.0),\n",
       " ('F9 B5', 15600.0),\n",
       " ('F9 B5B1060.2563', 15600.0),\n",
       " ('F9 B5B1051.6568', 15600.0),\n",
       " ('F9 B5', 15600.0),\n",
       " ('F9 B5 ', 15600.0),\n",
       " ('F9 B5 ', 15600.0),\n",
       " ('F9 B5 ', 15600.0),\n",
       " ('F9 B5', 15600.0),\n",
       " ('F9 B5B1051.8609', 15600.0)]"
      ]
     },
     "execution_count": 46,
     "metadata": {},
     "output_type": "execute_result"
    }
   ],
   "source": [
    "%%sql\n",
    "    select booster_version, payload_mass\n",
    "    from SPACEXTBL\n",
    "    where payload_mass = (select MAX(payload_mass) from SPACEXTBL)"
   ]
  },
  {
   "cell_type": "markdown",
   "metadata": {},
   "source": [
    "**Next query:** List the records which will display the month names, failure landing_outcomes in drone ship ,\n",
    "booster versions, launch_site for the months in year 2015.\n",
    "Note: SQLLite does not support monthnames. We need to use substr(Date, 6,2) as month to get the months\n",
    "and substr(Date,0,5)='2015' for year."
   ]
  },
  {
   "cell_type": "code",
   "execution_count": null,
   "metadata": {},
   "outputs": [],
   "source": [
    "%%sql \n",
    "    select substr(date,6,2) as month, outcome, booster_version, launch_site\n",
    "    from SPACEXTBL\n",
    "    where date like '2015%'\n",
    "    and landing_outcome = 'Failure (drone ship)'"
   ]
  },
  {
   "cell_type": "markdown",
   "metadata": {},
   "source": [
    "**Next query** rank the count of landing outcomes (such as Failure (drone ship) or Success (ground pad)) \n",
    "between the date 2010-06-04 and 2017-03-20, in descending order."
   ]
  },
  {
   "cell_type": "code",
   "execution_count": null,
   "metadata": {},
   "outputs": [],
   "source": [
    "%%sql \n",
    "    select date, landing_outcome\n",
    "    from SPACEXTBL\n",
    "    where landing_outcome in ('Failure (drone ship)', 'Success (ground pad)')\n",
    "    order by date desc"
   ]
  }
 ],
 "metadata": {
  "kernelspec": {
   "display_name": "venv",
   "language": "python",
   "name": "python3"
  },
  "language_info": {
   "codemirror_mode": {
    "name": "ipython",
    "version": 3
   },
   "file_extension": ".py",
   "mimetype": "text/x-python",
   "name": "python",
   "nbconvert_exporter": "python",
   "pygments_lexer": "ipython3",
   "version": "3.12.3"
  },
  "prev_pub_hash": "da902c2e8070fbe82a1211fe564834ebcb50f7fc45ad4040b3068861f12c70b8"
 },
 "nbformat": 4,
 "nbformat_minor": 4
}
